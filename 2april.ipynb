{
 "cells": [
  {
   "cell_type": "code",
   "execution_count": 1,
   "id": "7930f2c2-5e5f-47b0-af91-36f6dbe24c57",
   "metadata": {},
   "outputs": [],
   "source": [
    "#1GridSearchCV is a technique for finding the optimal parameter values from a given set of parameters in a grid. It's essentially a cross-validation technique. The model as well as the parameters must be entered. After extracting the best parameter values, predictions are made"
   ]
  },
  {
   "cell_type": "code",
   "execution_count": 2,
   "id": "37581417-2058-40e5-97e4-e9aee17cd0de",
   "metadata": {},
   "outputs": [],
   "source": [
    "#2In Grid Search, we try every combination of a preset list of values of the hyper-parameters and choose the best combination based on the cross-validation score.\n",
    "\n",
    "#Random search tries random combinations of a range of values (we have to define the number iterations). It is good at testing a wide range of values and normally it reaches a very good combination very fast, but the problem that it doesn’t guarantee to give the best parameter combination.\n",
    "\n",
    "#On the other hand, Grid search will give the best combination but it can take a lot of time."
   ]
  },
  {
   "cell_type": "code",
   "execution_count": 3,
   "id": "96c4649a-5e1b-4d31-a024-ccc3c1edb87c",
   "metadata": {},
   "outputs": [],
   "source": [
    "#3Data leakage (or leakage) happens when your training data contains information about the target, but similar data will not be available when the model is used for prediction. This leads to high performance on the training set (and possibly even the validation data), but the model will perform poorly in production."
   ]
  },
  {
   "cell_type": "code",
   "execution_count": 4,
   "id": "e85a33fe-4bc8-45f5-b867-834fe0235400",
   "metadata": {},
   "outputs": [],
   "source": [
    "#4You can minimize data leakage in machine learning in many different ways. You can start by partitioning your data into training and test subsets before engaging in any preprocessing. Maintain the chronological sequence in time series data and avoid using subsequent data for predictions related to earlier time points."
   ]
  },
  {
   "cell_type": "code",
   "execution_count": 5,
   "id": "535be35e-fbc3-4300-8fb9-a26aa15bf26e",
   "metadata": {},
   "outputs": [],
   "source": [
    "#A confusion matrix, also known as an error matrix, is a summarized table used to assess the performance of a classification model. The number of correct and incorrect predictions are summarized with count values and broken down by each class."
   ]
  },
  {
   "cell_type": "code",
   "execution_count": 6,
   "id": "41239042-b097-4b90-9562-c381f21c0a1c",
   "metadata": {},
   "outputs": [
    {
     "data": {
      "text/plain": [
       "'It helps us to measure the ability to classify positive samples in the model.While calculating the Precision of a model, we should consider both Positive as well as Negative samples that are classifiedWhen a model classifies most of the positive samples correctly as well as many false-positive samples, then the model is said to be a high recall and low precision model'"
      ]
     },
     "execution_count": 6,
     "metadata": {},
     "output_type": "execute_result"
    }
   ],
   "source": [
    "#6 precision\n",
    "'''It helps us to measure the ability to classify positive samples in the model.While calculating the Precision of a model, we should consider both Positive as well as Negative samples that are classifiedWhen a model classifies most of the positive samples correctly as well as many false-positive samples, then the model is said to be a high recall and low precision model'''"
   ]
  },
  {
   "cell_type": "code",
   "execution_count": 8,
   "id": "13a04b33-718d-4144-a93f-709052b343c2",
   "metadata": {},
   "outputs": [
    {
     "data": {
      "text/plain": [
       "'It helps us to measure how many positive samples were correctly classified by the ML model.While calculating the Recall of a model, we only need all positive samples while all negative samples will be neglected.When a model classifies a sample as Positive, but it can only classify a few positive samples, then the model is said to be high accuracy, high precision, and low recall model'"
      ]
     },
     "execution_count": 8,
     "metadata": {},
     "output_type": "execute_result"
    }
   ],
   "source": [
    "#recall\n",
    "'''It helps us to measure how many positive samples were correctly classified by the ML model.While calculating the Recall of a model, we only need all positive samples while all negative samples will be neglected.When a model classifies a sample as Positive, but it can only classify a few positive samples, then the model is said to be high accuracy, high precision, and low recall model'''"
   ]
  },
  {
   "cell_type": "code",
   "execution_count": 9,
   "id": "01dbd011-ec50-44b9-ba1c-9b06e9d09f52",
   "metadata": {},
   "outputs": [],
   "source": [
    "#7 The confusion matrix shows the number of correct predictions: true positives (TP) and true negatives (TN). It also shows the model errors: false positives (FP) are “false alarms,” and false negatives (FN) are missed cases."
   ]
  },
  {
   "cell_type": "code",
   "execution_count": 10,
   "id": "9144160c-69a5-48ec-a8c1-30d086d562ec",
   "metadata": {},
   "outputs": [],
   "source": [
    "#8 The confusion matrix can be converted into a one-vs-all type matrix (binary-class confusion matrix) for calculating class-wise metrics like accuracy, precision, recall, etc. Converting the matrix to a one-vs-all matrix for class-1 of the data"
   ]
  },
  {
   "cell_type": "code",
   "execution_count": 11,
   "id": "21e80b6f-3724-4a8c-b65c-c83c74895b3d",
   "metadata": {},
   "outputs": [],
   "source": [
    "#9Confusion matrix is a useful tool in machine learning to evaluate the accuracy of a classification model. The confusion matrix summarizes the number of true positive (TP), true negative (TN), false positive (FP), and false negative (FN) predictions made by a classification model.\n",
    "\n",
    "#The prediction accuracy is the proportion of correct predictions made by the model, which is typically calculated as (TP + TN) / (TP + TN + FP + FN). This accuracy metric is often used to assess the overall performance of a classification model.\n",
    "\n",
    "#However, the confusion matrix provides more detailed information about the performance of a classification model, as it breaks down the accuracy metrics into TP, TN, FP, and FN. These metrics can be used to calculate additional performance metrics such as precision, recall, and F1 score."
   ]
  },
  {
   "cell_type": "code",
   "execution_count": null,
   "id": "5d851452-d8a4-49f5-b508-083ee8778b6d",
   "metadata": {},
   "outputs": [],
   "source": []
  }
 ],
 "metadata": {
  "kernelspec": {
   "display_name": "Python 3 (ipykernel)",
   "language": "python",
   "name": "python3"
  },
  "language_info": {
   "codemirror_mode": {
    "name": "ipython",
    "version": 3
   },
   "file_extension": ".py",
   "mimetype": "text/x-python",
   "name": "python",
   "nbconvert_exporter": "python",
   "pygments_lexer": "ipython3",
   "version": "3.10.8"
  }
 },
 "nbformat": 4,
 "nbformat_minor": 5
}
